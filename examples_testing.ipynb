{
 "cells": [
  {
   "cell_type": "code",
   "execution_count": 1,
   "metadata": {
    "ExecuteTime": {
     "end_time": "2016-09-25T22:28:29.218447",
     "start_time": "2016-09-25T22:28:28.524066"
    },
    "collapsed": false
   },
   "outputs": [],
   "source": [
    "%matplotlib inline\n",
    "from skimage import data\n",
    "import matplotlib.pyplot as plt\n",
    "import plotter"
   ]
  },
  {
   "cell_type": "code",
   "execution_count": 2,
   "metadata": {
    "ExecuteTime": {
     "end_time": "2016-09-25T22:28:32.163719",
     "start_time": "2016-09-25T22:28:32.119008"
    },
    "collapsed": true
   },
   "outputs": [],
   "source": [
    "import nude\n",
    "import imp\n",
    "import os\n",
    "import multiprocessing\n",
    "samplers = [nude.PerceptualHashGen, nude.ORBSampleGen,\n",
    "            nude.dlib_fhog_SampleGen, nude.defaultSampleGen,\n",
    "            nude.randomSampleGen ]\n",
    "def testfile(fname, resize=False):\n",
    "    n = Nude(fname, sampler=randomSampleGen)\n",
    "    if resize:\n",
    "            n.resize(maxheight=800, maxwidth=600)\n",
    "    n.parse()\n",
    "    return n.result\n",
    "\n",
    "def nudecallback(result):\n",
    "    global results\n",
    "    if result:\n",
    "            results['tp'] += 1\n",
    "    else:\n",
    "            results['fn'] += 1\n",
    "\n",
    "def notnudecallback(result):\n",
    "    global results\n",
    "    if result:\n",
    "            results['fp'] += 1\n",
    "    else:\n",
    "            results['tn'] += 1\n"
   ]
  },
  {
   "cell_type": "code",
   "execution_count": 3,
   "metadata": {
    "ExecuteTime": {
     "end_time": "2016-09-25T22:28:32.724367",
     "start_time": "2016-09-25T22:28:32.165492"
    },
    "collapsed": false
   },
   "outputs": [
    {
     "ename": "SyntaxError",
     "evalue": "invalid syntax (<ipython-input-3-3dfc5a00e1a3>, line 23)",
     "output_type": "error",
     "traceback": [
      "\u001b[0;36m  File \u001b[0;32m\"<ipython-input-3-3dfc5a00e1a3>\"\u001b[0;36m, line \u001b[0;32m23\u001b[0m\n\u001b[0;31m    print(\"True positives: \", results['tp'], '/', nudenum, ' - ', (results['tp']/nudenum)*100, '%', sep='')\u001b[0m\n\u001b[0m                                                                                                       ^\u001b[0m\n\u001b[0;31mSyntaxError\u001b[0m\u001b[0;31m:\u001b[0m invalid syntax\n"
     ]
    }
   ],
   "source": [
    "pool = multiprocessing.Pool(args.threads)\n",
    "results = {}\n",
    "results['tp'] = 0\n",
    "results['tn'] = 0\n",
    "results['fp'] = 0\n",
    "results['fn'] = 0\n",
    "nudepath = os.path.join('samples', 'nude')\n",
    "notnudepath = os.path.join('samples', 'not_nude')\n",
    "\n",
    "for nudepic in os.listdir(nudepath):\n",
    "    fname = os.path.join(nudepath, nudepic)\n",
    "    pool.apply_async(testfile, (fname, ), {'resize':args.resize}, nudecallback)\n",
    "\n",
    "for notnudepic in os.listdir(notnudepath):\n",
    "    fname = os.path.join(notnudepath, notnudepic)\n",
    "    pool.apply_async(testfile, (fname, ), {'resize':args.resize}, notnudecallback)\n",
    "\n",
    "pool.close()\n",
    "pool.join()\n",
    "nudenum = results['tp'] + results['fn']\n",
    "nonnudenum = results['fp'] + results['tn']\n",
    "if nudenum:\n",
    "    print(\"True positives: \", results['tp'], '/', nudenum, ' - ', (results['tp']/nudenum)*100, '%', sep='')\n",
    "else:\n",
    "    print(\"True positives: N/A\")\n",
    "if nonnudenum:\n",
    "    print(\"False positives: \", results['fp'], '/', nonnudenum, ' - ', (results['fp']/nonnudenum)*100, '%', sep='')\n",
    "else:\n",
    "    print(\"False positives: N/A\")"
   ]
  },
  {
   "cell_type": "code",
   "execution_count": null,
   "metadata": {
    "ExecuteTime": {
     "end_time": "2016-09-25T22:28:32.724875",
     "start_time": "2016-09-25T16:58:32.125Z"
    },
    "collapsed": false
   },
   "outputs": [],
   "source": [
    "import phash\n",
    "from skimage.feature import plot_matches\n",
    "from skimage.color import rgb2gray\n",
    "\n",
    "img1 = rgb2gray(data.astronaut())\n",
    "\n",
    "img2 = phash.perceptual_hash(img1, \n",
    "                             hash_size=(int(img1.size*0.5), int(img1.size*0.5)))\n",
    "plotter.show_image(img1)\n",
    "plotter.show_image(img2)"
   ]
  }
 ],
 "metadata": {
  "anaconda-cloud": {},
  "kernelspec": {
   "display_name": "Python [conda env:nude.py]",
   "language": "python",
   "name": "conda-env-nude.py-py"
  },
  "language_info": {
   "codemirror_mode": {
    "name": "ipython",
    "version": 2
   },
   "file_extension": ".py",
   "mimetype": "text/x-python",
   "name": "python",
   "nbconvert_exporter": "python",
   "pygments_lexer": "ipython2",
   "version": "2.7.12"
  },
  "latex_envs": {
   "bibliofile": "biblio.bib",
   "cite_by": "apalike",
   "current_citInitial": 1,
   "eqLabelWithNumbers": true,
   "eqNumInitial": 0
  }
 },
 "nbformat": 4,
 "nbformat_minor": 0
}
